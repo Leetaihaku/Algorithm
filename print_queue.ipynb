{
 "cells": [
  {
   "cell_type": "code",
   "execution_count": 15,
   "metadata": {},
   "outputs": [
    {
     "name": "stdout",
     "output_type": "stream",
     "text": [
      "3\n",
      "1 0\n",
      "5\n",
      "4 2\n",
      "1 2 3 4\n",
      "6 0\n",
      "1 1 9 1 1 1\n"
     ]
    }
   ],
   "source": [
    "case = int(input())\n",
    "coidx = []\n",
    "Q = []\n",
    "for i in range(case):\n",
    "    count, idx = map(int, input().split())\n",
    "    coidx.append([count, idx])\n",
    "    info = input()\n",
    "    queue = []\n",
    "    for j in range(len(info)):\n",
    "        if info[j] != ' ':\n",
    "            queue.append(int(info[j]))\n",
    "    Q.append(queue)"
   ]
  },
  {
   "cell_type": "code",
   "execution_count": 16,
   "metadata": {},
   "outputs": [
    {
     "name": "stdout",
     "output_type": "stream",
     "text": [
      "[[5], [1, 2, 3, 4], [1, 1, 9, 1, 1, 1]]\n",
      "[[1, 0], [4, 2], [6, 0]]\n"
     ]
    }
   ],
   "source": [
    "print(Q)\n",
    "print(coidx)"
   ]
  },
  {
   "cell_type": "code",
   "execution_count": 17,
   "metadata": {},
   "outputs": [],
   "source": [
    "def find_turn(coidx, Q):\n",
    "    copy = Q.copy()\n",
    "    peek = 0\n",
    "    cycle = 1\n",
    "    for i in range(len(Q)):\n",
    "        target = max(Q)\n",
    "        if Q.count(target) == 1:#최고수가 단수::\n",
    "            peek = Q.index(target)\n",
    "            copy[peek] = cycle\n",
    "            cycle += 1\n",
    "            Q[peek] = 0\n",
    "        else:#최고수가 복수::\n",
    "            while(True):\n",
    "                if Q[peek] == target:\n",
    "                    copy[peek] = cycle\n",
    "                    cycle += 1\n",
    "                    Q[peek] = 0\n",
    "                    break\n",
    "                if peek == len(Q)-1:\n",
    "                    peek = 0\n",
    "                else:\n",
    "                    peek += 1\n",
    "    print(copy)\n",
    "    return copy[coidx[1]]"
   ]
  },
  {
   "cell_type": "code",
   "execution_count": 18,
   "metadata": {},
   "outputs": [
    {
     "name": "stdout",
     "output_type": "stream",
     "text": [
      "[1]\n",
      "case 0  :  1\n",
      "[4, 3, 2, 1]\n",
      "case 1  :  2\n",
      "[5, 6, 1, 2, 3, 4]\n",
      "case 2  :  5\n"
     ]
    }
   ],
   "source": [
    "for i in range(case):\n",
    "    print('case',i,' : ',find_turn(coidx[i], Q[i]))"
   ]
  }
 ],
 "metadata": {
  "kernelspec": {
   "display_name": "Python 3",
   "language": "python",
   "name": "python3"
  },
  "language_info": {
   "codemirror_mode": {
    "name": "ipython",
    "version": 3
   },
   "file_extension": ".py",
   "mimetype": "text/x-python",
   "name": "python",
   "nbconvert_exporter": "python",
   "pygments_lexer": "ipython3",
   "version": "3.7.4"
  }
 },
 "nbformat": 4,
 "nbformat_minor": 2
}

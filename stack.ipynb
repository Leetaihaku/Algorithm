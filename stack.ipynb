{
 "cells": [
  {
   "cell_type": "code",
   "execution_count": 22,
   "metadata": {},
   "outputs": [],
   "source": [
    "def order(string,stack):\n",
    "    if string[0:4] == \"push\":\n",
    "        stack.append(int(string[5]))\n",
    "    elif string == \"pop\":\n",
    "        if len(stack) >= 1:\n",
    "            print(stack[-1])\n",
    "            del stack[-1]\n",
    "        else:\n",
    "            print('-1')\n",
    "    elif string == \"size\":\n",
    "        print(len(stack))\n",
    "    elif string == \"empty\":\n",
    "        if len(stack) == 0:\n",
    "            print('1')\n",
    "        else:\n",
    "            print('0')\n",
    "    elif string == \"top\":\n",
    "        if len(stack) > 0:\n",
    "            print(stack[-1])\n",
    "        else:\n",
    "            print('-1')\n",
    "    else:\n",
    "        print(\"!!ERROR_CODE!!\")\n",
    "    return stack"
   ]
  },
  {
   "cell_type": "code",
   "execution_count": 32,
   "metadata": {},
   "outputs": [
    {
     "name": "stdout",
     "output_type": "stream",
     "text": [
      "14\n",
      "push 1\n",
      "push 2\n",
      "top\n",
      "size\n",
      "empty\n",
      "pop\n",
      "pop\n",
      "pop\n",
      "size\n",
      "empty\n",
      "pop\n",
      "push 3\n",
      "empty\n",
      "top\n",
      "['push 1', 'push 2', 'top', 'size', 'empty', 'pop', 'pop', 'pop', 'size', 'empty', 'pop', 'push 3', 'empty', 'top']\n"
     ]
    }
   ],
   "source": [
    "iteration = int(input())\n",
    "table = []\n",
    "for i in range(iteration):\n",
    "    table.append(input())\n",
    "print(table)"
   ]
  },
  {
   "cell_type": "code",
   "execution_count": 33,
   "metadata": {
    "scrolled": true
   },
   "outputs": [
    {
     "name": "stdout",
     "output_type": "stream",
     "text": [
      "2\n",
      "2\n",
      "0\n",
      "2\n",
      "1\n",
      "-1\n",
      "0\n",
      "1\n",
      "-1\n",
      "0\n",
      "3\n"
     ]
    }
   ],
   "source": [
    "stack = []\n",
    "for i in range(iteration):\n",
    "    stack = order(table[i],stack)"
   ]
  }
 ],
 "metadata": {
  "kernelspec": {
   "display_name": "Python 3",
   "language": "python",
   "name": "python3"
  },
  "language_info": {
   "codemirror_mode": {
    "name": "ipython",
    "version": 3
   },
   "file_extension": ".py",
   "mimetype": "text/x-python",
   "name": "python",
   "nbconvert_exporter": "python",
   "pygments_lexer": "ipython3",
   "version": "3.7.4"
  }
 },
 "nbformat": 4,
 "nbformat_minor": 2
}

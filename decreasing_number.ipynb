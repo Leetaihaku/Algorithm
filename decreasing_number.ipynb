{
 "cells": [
  {
   "cell_type": "code",
   "execution_count": 1,
   "metadata": {},
   "outputs": [
    {
     "name": "stdout",
     "output_type": "stream",
     "text": [
      "18\n"
     ]
    }
   ],
   "source": [
    "target = input()"
   ]
  },
  {
   "cell_type": "code",
   "execution_count": 6,
   "metadata": {},
   "outputs": [],
   "source": [
    "def decreasing_num(target):\n",
    "    cycle = 0\n",
    "    checked = 0\n",
    "    while(target != cycle):\n",
    "        if len(str(cycle)) == 1:\n",
    "            cycle += 1\n",
    "            checked += 1\n",
    "        else:\n",
    "            arr = []\n",
    "            for i in range(len(target)):\n",
    "                arr.append(int(target[i]))\n",
    "            flag = 1\n",
    "            for i in range(len(target)-1):\n",
    "                if target[i] < target[i+1]:\n",
    "                    flag = 0\n",
    "            if flag == 1:\n",
    "                cycle += 1\n",
    "                checked += 1\n",
    "    return cycle"
   ]
  },
  {
   "cell_type": "code",
   "execution_count": null,
   "metadata": {},
   "outputs": [],
   "source": [
    "decreasing_num(target)"
   ]
  },
  {
   "cell_type": "code",
   "execution_count": null,
   "metadata": {},
   "outputs": [],
   "source": []
  }
 ],
 "metadata": {
  "kernelspec": {
   "display_name": "Python 3",
   "language": "python",
   "name": "python3"
  },
  "language_info": {
   "codemirror_mode": {
    "name": "ipython",
    "version": 3
   },
   "file_extension": ".py",
   "mimetype": "text/x-python",
   "name": "python",
   "nbconvert_exporter": "python",
   "pygments_lexer": "ipython3",
   "version": "3.6.9"
  }
 },
 "nbformat": 4,
 "nbformat_minor": 4
}

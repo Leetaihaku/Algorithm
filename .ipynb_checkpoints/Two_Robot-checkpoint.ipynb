{
 "cells": [
  {
   "cell_type": "code",
   "execution_count": 7,
   "metadata": {},
   "outputs": [
    {
     "name": "stdout",
     "output_type": "stream",
     "text": [
      "5 1 5\n",
      "1 2 1\n",
      "2 3 2\n",
      "3 4 3\n",
      "4 5 4\n",
      "[[1, 2, 1], [2, 3, 2], [3, 4, 3], [4, 5, 4]]\n"
     ]
    }
   ],
   "source": [
    "room_count, robot1, robot2 = map(int,input().split())\n",
    "room = []\n",
    "for i in range(room_count-1):\n",
    "    left_room, right_room, route_len = map(int,input().split())\n",
    "    room.append([left_room, right_room, route_len])\n",
    "print(room)"
   ]
  },
  {
   "cell_type": "code",
   "execution_count": null,
   "metadata": {},
   "outputs": [],
   "source": [
    "def check_distance(start,desti,room):\n",
    "    candidate = []\n",
    "    "
   ]
  }
 ],
 "metadata": {
  "kernelspec": {
   "display_name": "Python 3",
   "language": "python",
   "name": "python3"
  },
  "language_info": {
   "codemirror_mode": {
    "name": "ipython",
    "version": 3
   },
   "file_extension": ".py",
   "mimetype": "text/x-python",
   "name": "python",
   "nbconvert_exporter": "python",
   "pygments_lexer": "ipython3",
   "version": "3.6.9"
  }
 },
 "nbformat": 4,
 "nbformat_minor": 4
}

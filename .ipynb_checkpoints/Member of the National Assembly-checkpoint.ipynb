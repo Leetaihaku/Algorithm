{
 "cells": [
  {
   "cell_type": "code",
   "execution_count": 2,
   "metadata": {},
   "outputs": [
    {
     "name": "stdout",
     "output_type": "stream",
     "text": [
      "3\n",
      "5\n",
      "7\n",
      "7\n"
     ]
    }
   ],
   "source": [
    "MONA = int(input())\n",
    "N = []\n",
    "for i in range(MONA):\n",
    "    N.append(int(input()))"
   ]
  },
  {
   "cell_type": "code",
   "execution_count": 8,
   "metadata": {},
   "outputs": [],
   "source": [
    "def min_casting_num(N):\n",
    "    cycle = 0\n",
    "    while(True):\n",
    "        player = N[0]\n",
    "        another = max(N)\n",
    "        print('player : ',player,'another : ',another)\n",
    "        if another >= player + cycle:\n",
    "            cycle += 1\n",
    "            N[N.index(another)] -= 1\n",
    "        else:\n",
    "            return cycle"
   ]
  },
  {
   "cell_type": "code",
   "execution_count": 9,
   "metadata": {},
   "outputs": [
    {
     "name": "stdout",
     "output_type": "stream",
     "text": [
      "player :  5 another :  7\n",
      "player :  5 another :  7\n",
      "player :  5 another :  6\n"
     ]
    },
    {
     "data": {
      "text/plain": [
       "2"
      ]
     },
     "execution_count": 9,
     "metadata": {},
     "output_type": "execute_result"
    }
   ],
   "source": [
    "min_casting_num(N)"
   ]
  }
 ],
 "metadata": {
  "kernelspec": {
   "display_name": "Python 3",
   "language": "python",
   "name": "python3"
  },
  "language_info": {
   "codemirror_mode": {
    "name": "ipython",
    "version": 3
   },
   "file_extension": ".py",
   "mimetype": "text/x-python",
   "name": "python",
   "nbconvert_exporter": "python",
   "pygments_lexer": "ipython3",
   "version": "3.6.9"
  }
 },
 "nbformat": 4,
 "nbformat_minor": 4
}

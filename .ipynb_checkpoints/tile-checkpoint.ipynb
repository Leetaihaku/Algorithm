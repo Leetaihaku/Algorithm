{
 "cells": [
  {
   "cell_type": "code",
   "execution_count": 2,
   "metadata": {},
   "outputs": [
    {
     "name": "stdout",
     "output_type": "stream",
     "text": [
      "11\n",
      "4\n",
      "5 2\n",
      "9 7\n",
      "4 4\n",
      "3 9\n",
      "[[5, 2], [9, 7], [4, 4], [3, 9]]\n"
     ]
    }
   ],
   "source": [
    "line = int(input())\n",
    "delete = int(input())\n",
    "arr = []\n",
    "for i in range(delete):\n",
    "    x,y = map(int, input().split())\n",
    "    arr.append([x,y])\n",
    "print(arr)"
   ]
  },
  {
   "cell_type": "code",
   "execution_count": 5,
   "metadata": {},
   "outputs": [],
   "source": [
    "def find_color(partial):\n",
    "    if partial[0] % 3 == 1 and partial[1] % 3 == 1:#빨강\n",
    "        return 1\n",
    "    elif partial[0] % 3 == 2 and partial[1] % 3 == 2:#파랑\n",
    "        return 2\n",
    "    else:#노랑\n",
    "        return 3"
   ]
  },
  {
   "cell_type": "code",
   "execution_count": 6,
   "metadata": {},
   "outputs": [
    {
     "name": "stdout",
     "output_type": "stream",
     "text": [
      "2\n",
      "3\n",
      "1\n",
      "3\n"
     ]
    }
   ],
   "source": [
    "for i in range(len(arr)):\n",
    "    print(find_color(arr[i]))"
   ]
  }
 ],
 "metadata": {
  "kernelspec": {
   "display_name": "Python 3",
   "language": "python",
   "name": "python3"
  },
  "language_info": {
   "codemirror_mode": {
    "name": "ipython",
    "version": 3
   },
   "file_extension": ".py",
   "mimetype": "text/x-python",
   "name": "python",
   "nbconvert_exporter": "python",
   "pygments_lexer": "ipython3",
   "version": "3.6.9"
  }
 },
 "nbformat": 4,
 "nbformat_minor": 4
}

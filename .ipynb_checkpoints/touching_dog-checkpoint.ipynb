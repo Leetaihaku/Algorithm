{
 "cells": [
  {
   "cell_type": "code",
   "execution_count": 1,
   "metadata": {},
   "outputs": [
    {
     "name": "stdout",
     "output_type": "stream",
     "text": [
      "45\n",
      "49\n"
     ]
    }
   ],
   "source": [
    "monkey = int(input())\n",
    "dog = int(input())"
   ]
  },
  {
   "cell_type": "code",
   "execution_count": 2,
   "metadata": {},
   "outputs": [
    {
     "name": "stdout",
     "output_type": "stream",
     "text": [
      "4\n"
     ]
    }
   ],
   "source": [
    "diff = dog - monkey\n",
    "print(diff)"
   ]
  },
  {
   "cell_type": "code",
   "execution_count": 3,
   "metadata": {},
   "outputs": [],
   "source": [
    "def min_days(diff):\n",
    "    cycle = 1\n",
    "    while(True):\n",
    "        if(cycle%2 == 0):\n",
    "            cycle_type = 'even'\n",
    "        else:\n",
    "            cycle_type = 'odd'\n",
    "        if diff == 1:\n",
    "            return 1\n",
    "        elif diff == 2:\n",
    "            return 2\n",
    "        elif diff == 3:\n",
    "            return 3\n",
    "        else:\n",
    "            \n",
    "            \n",
    "            \n",
    "            \n",
    "            \n",
    "            '''if ((cycle*(cycle+1))/2 + cycle*(cycle-1)/2 == diff):\n",
    "                if cycle_type == 'even':\n",
    "                    return 2*cycle-1\n",
    "                elif cycle_type == 'odd':\n",
    "                    return 2*cycle-2\n",
    "            else:\n",
    "                cycle += 1                '''"
   ]
  },
  {
   "cell_type": "code",
   "execution_count": null,
   "metadata": {},
   "outputs": [],
   "source": []
  }
 ],
 "metadata": {
  "kernelspec": {
   "display_name": "Python 3",
   "language": "python",
   "name": "python3"
  },
  "language_info": {
   "codemirror_mode": {
    "name": "ipython",
    "version": 3
   },
   "file_extension": ".py",
   "mimetype": "text/x-python",
   "name": "python",
   "nbconvert_exporter": "python",
   "pygments_lexer": "ipython3",
   "version": "3.6.9"
  }
 },
 "nbformat": 4,
 "nbformat_minor": 4
}
